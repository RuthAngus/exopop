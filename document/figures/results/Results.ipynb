{
 "metadata": {
  "name": "",
  "signature": "sha256:990cd8d2947cc43a3611cd09da45922a5937a5f2ad1a6b394977ac28634b0d1a"
 },
 "nbformat": 3,
 "nbformat_minor": 0,
 "worksheets": [
  {
   "cells": [
    {
     "cell_type": "code",
     "collapsed": false,
     "input": [
      "%matplotlib inline\n",
      "from matplotlib import rcParams"
     ],
     "language": "python",
     "metadata": {},
     "outputs": [],
     "prompt_number": 1
    },
    {
     "cell_type": "code",
     "collapsed": false,
     "input": [
      "import h5py\n",
      "import numpy as np\n",
      "import matplotlib.pyplot as pl\n",
      "from scipy.misc import logsumexp\n",
      "from matplotlib.ticker import FormatStrFormatter"
     ],
     "language": "python",
     "metadata": {},
     "outputs": [],
     "prompt_number": 2
    },
    {
     "cell_type": "code",
     "collapsed": false,
     "input": [
      "with h5py.File(\"samples.h5\", \"r\") as f:\n",
      "    samples = f[\"ln_occurrence_rate_samples\"][...]\n",
      "    ln_period_bin_edges = f[\"ln_period_bin_edges\"][...]\n",
      "    ln_radius_bin_edges = f[\"ln_radius_bin_edges\"][...]"
     ],
     "language": "python",
     "metadata": {},
     "outputs": [],
     "prompt_number": 3
    },
    {
     "cell_type": "code",
     "collapsed": false,
     "input": [
      "pl.pcolor(ln_period_bin_edges, ln_radius_bin_edges, np.exp(np.median(samples, axis=0)).T, cmap=\"gray\");"
     ],
     "language": "python",
     "metadata": {},
     "outputs": [
      {
       "metadata": {},
       "output_type": "display_data",
       "png": "[encoded data removed]",
       "text": [
        "<matplotlib.figure.Figure at 0x1028d3350>"
       ]
      }
     ],
     "prompt_number": 4
    },
    {
     "cell_type": "code",
     "collapsed": false,
     "input": [
      "bins = [ln_period_bin_edges, ln_radius_bin_edges]\n",
      "labels = [\"R / R_\\oplus\", \"P / \\mathrm{day}\"]\n",
      "slices = [\n",
      "    [slice(0, 4), slice(4, 7), slice(7, 10), slice(10, 13)],\n",
      "    [slice(0, 3), slice(3, 5), slice(5, 7)]\n",
      "]\n",
      "colors = \"brgc\"\n",
      "linestyles = [\"-\", \"-\", \"-\", \"-\"]\n",
      "\n",
      "def plot_results(a):\n",
      "    x = bins[a%2]\n",
      "    s = [slice(None), slice(None), slice(None)]\n",
      "    \n",
      "    fig = pl.figure()\n",
      "    ax = fig.add_subplot(111)\n",
      "    ax_right = ax.twinx()\n",
      "\n",
      "    for i, (blah, ls, c) in enumerate(zip([slice(None)] + slices[a%2], [\"-\"] + linestyles, \"k\" + colors)):\n",
      "        s[a] = blah\n",
      "        samps = logsumexp(samples[s], axis=a)\n",
      "        y = np.mean(samps, axis=0) - np.log(42557.0)\n",
      "        yerr = np.std(samps, axis=0)\n",
      "        \n",
      "        if i == 0:\n",
      "            txt = \"all\"\n",
      "        else:\n",
      "            rng = np.exp(min(bins[a-1][blah])), np.exp(max(bins[a-1][blah]))\n",
      "            txt = r\"({0:.1f}, {1:.1f})\".format(*rng)\n",
      "\n",
      "        ax_right.plot(np.array(zip(x[:-1], x[1:])).flatten(), np.array(zip(y, y)).flatten(),\n",
      "                      color=c, ls=ls, lw=0.5 * (len(slices[a%2]) - i)+1, label=txt)\n",
      "        ax_right.errorbar(0.5 * (x[:-1] + x[1:]) + (i-0.5*len(slices[a%2]))*0.03, y, yerr=yerr, fmt=\"+\", color=c, capsize=0)\n",
      "\n",
      "    ax_right.set_yticklabels([])\n",
      "    ax.set_xlim(min(x), max(x))\n",
      "    ax.set_xlabel(r\"$\\ln {0}$\".format(labels[a-1]))\n",
      "    ax.set_ylabel(r\"$N_\\mathrm{avg} / N_\\star$\")\n",
      "\n",
      "    a2 = ax.twiny()\n",
      "    a2.set_xlim(np.exp(ax.get_xlim()))\n",
      "    a2.set_xscale(\"log\")\n",
      "    a2.xaxis.set_major_formatter(FormatStrFormatter(\"%.0f\"))\n",
      "    a2.set_xlabel(r\"${0}$\".format(labels[a-1]))\n",
      "\n",
      "    ax.set_ylim(np.exp(ax_right.get_ylim()))\n",
      "    ax.set_yscale(\"log\")\n",
      "    ax.set_ylabel(r\"$N_\\mathrm{avg} / N_\\star$\")\n",
      "    # ax_right.legend()\n",
      "    \n",
      "    # fig.subplots_adjust(left=0.15, right=0.97)\n",
      "    \n",
      "    return fig"
     ],
     "language": "python",
     "metadata": {},
     "outputs": [],
     "prompt_number": 5
    },
    {
     "cell_type": "code",
     "collapsed": false,
     "input": [
      "fig = plot_results(1)\n",
      "fig.savefig(\"radius.pdf\")"
     ],
     "language": "python",
     "metadata": {},
     "outputs": [
      {
       "metadata": {},
       "output_type": "display_data",
       "png": "[encoded data removed]",
       "text": [
        "<matplotlib.figure.Figure at 0x1054c9bd0>"
       ]
      }
     ],
     "prompt_number": 6
    },
    {
     "cell_type": "code",
     "collapsed": false,
     "input": [
      "fig = plot_results(2)\n",
      "fig.savefig(\"period.pdf\")"
     ],
     "language": "python",
     "metadata": {},
     "outputs": [
      {
       "metadata": {},
       "output_type": "display_data",
       "png": "[encoded data removed]",
       "text": [
        "<matplotlib.figure.Figure at 0x1068ebe90>"
       ]
      }
     ],
     "prompt_number": 7
    },
    {
     "cell_type": "code",
     "collapsed": false,
     "input": [],
     "language": "python",
     "metadata": {},
     "outputs": [],
     "prompt_number": 226
    },
    {
     "cell_type": "code",
     "collapsed": false,
     "input": [],
     "language": "python",
     "metadata": {},
     "outputs": []
    }
   ],
   "metadata": {}
  }
 ]
}